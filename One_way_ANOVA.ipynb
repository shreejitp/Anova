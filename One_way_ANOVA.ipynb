{
  "nbformat": 4,
  "nbformat_minor": 0,
  "metadata": {
    "colab": {
      "name": "One_way_ANOVA.ipynb",
      "provenance": [],
      "authorship_tag": "ABX9TyO5cJdfxDWtCIM7N8aNR202",
      "include_colab_link": true
    },
    "kernelspec": {
      "name": "python3",
      "display_name": "Python 3"
    }
  },
  "cells": [
    {
      "cell_type": "markdown",
      "metadata": {
        "id": "view-in-github",
        "colab_type": "text"
      },
      "source": [
        "<a href=\"https://colab.research.google.com/github/shreejitp/Anova/blob/main/One_way_ANOVA.ipynb\" target=\"_parent\"><img src=\"https://colab.research.google.com/assets/colab-badge.svg\" alt=\"Open In Colab\"/></a>"
      ]
    },
    {
      "cell_type": "markdown",
      "metadata": {
        "id": "Us0CXkCQ-VPk"
      },
      "source": [
        "# ANOVA\n",
        "\n",
        "Often we come across an important factor or variable that has a lot of interest. In a SaaS business for example, you could have AOV or churn as attributes the business cares about. Sometimes you want to look at the association of those important factors with a few variables. \n",
        "\n",
        "You could end up looking for association between\n",
        "\n",
        "a) Continuous and Continuous variable\n",
        "b) Continuous and Categorical variable \n",
        "c) Categorical and Categorical variable \n",
        "\n",
        "\n",
        "There are a number of stastical tests availabe to understand the assocication among/between different variables. \n",
        "\n",
        "\n",
        "ANOVA looks at association between a continuous variable and a categorical variable. \n"
      ]
    },
    {
      "cell_type": "markdown",
      "metadata": {
        "id": "9_noaGwnwASb"
      },
      "source": [
        "References- https://www.pythonfordatascience.org/anova-python/\n"
      ]
    },
    {
      "cell_type": "markdown",
      "metadata": {
        "id": "nQWJaMbNqC8T"
      },
      "source": [
        "One Way Anova"
      ]
    },
    {
      "cell_type": "markdown",
      "metadata": {
        "id": "_BI8jB4bqHb9"
      },
      "source": [
        "\n",
        "ANOVA stands for \"Analysis of Variance\" and is an omnibus test, meaning it tests for a difference overall between all groups. The one-way ANOVA, also referred to as one factor ANOVA, is a parametric test used to test for a statistically significant difference of an outcome between 3 or more groups. Since it is an omnibus test, it tests for a difference overall, i.e. at least one of the groups is statistically significantly different than the others. However, if the ANOVA is significant one cannot tell which group is different. In order to tell which group is different, one has to conduct planned or post-hoc comparisons. As with all parametric tests, there are certain conditions that need to be met in order for the test results to be considered reliable"
      ]
    },
    {
      "cell_type": "code",
      "metadata": {
        "id": "_BwUO-aPqFkP",
        "colab": {
          "base_uri": "https://localhost:8080/",
          "height": 170
        },
        "outputId": "9fe9d5b5-8abf-4299-f423-201d3b6489b3"
      },
      "source": [
        "!pip install researchpy\n",
        "import pandas as pd\n",
        "import researchpy as rp"
      ],
      "execution_count": null,
      "outputs": [
        {
          "output_type": "stream",
          "text": [
            "Requirement already satisfied: researchpy in /usr/local/lib/python3.6/dist-packages (0.2.3)\n",
            "Requirement already satisfied: numpy in /usr/local/lib/python3.6/dist-packages (from researchpy) (1.18.5)\n",
            "Requirement already satisfied: statsmodels in /usr/local/lib/python3.6/dist-packages (from researchpy) (0.12.0)\n",
            "Requirement already satisfied: pandas in /usr/local/lib/python3.6/dist-packages (from researchpy) (1.0.5)\n",
            "Requirement already satisfied: scipy in /usr/local/lib/python3.6/dist-packages (from researchpy) (1.4.1)\n",
            "Requirement already satisfied: patsy>=0.5 in /usr/local/lib/python3.6/dist-packages (from statsmodels->researchpy) (0.5.1)\n",
            "Requirement already satisfied: pytz>=2017.2 in /usr/local/lib/python3.6/dist-packages (from pandas->researchpy) (2018.9)\n",
            "Requirement already satisfied: python-dateutil>=2.6.1 in /usr/local/lib/python3.6/dist-packages (from pandas->researchpy) (2.8.1)\n",
            "Requirement already satisfied: six in /usr/local/lib/python3.6/dist-packages (from patsy>=0.5->statsmodels->researchpy) (1.15.0)\n"
          ],
          "name": "stdout"
        }
      ]
    },
    {
      "cell_type": "code",
      "metadata": {
        "id": "nmsLas4MqsPj"
      },
      "source": [
        "df = pd.read_csv(\"https://raw.githubusercontent.com/researchpy/Data-sets/master/difficile.csv\")"
      ],
      "execution_count": null,
      "outputs": []
    },
    {
      "cell_type": "code",
      "metadata": {
        "id": "JrLEXttsq4fU",
        "colab": {
          "base_uri": "https://localhost:8080/",
          "height": 514
        },
        "outputId": "f7078c29-1741-4dd1-cd6c-68d7ee7bae7a"
      },
      "source": [
        "df"
      ],
      "execution_count": null,
      "outputs": [
        {
          "output_type": "execute_result",
          "data": {
            "text/html": [
              "<div>\n",
              "<style scoped>\n",
              "    .dataframe tbody tr th:only-of-type {\n",
              "        vertical-align: middle;\n",
              "    }\n",
              "\n",
              "    .dataframe tbody tr th {\n",
              "        vertical-align: top;\n",
              "    }\n",
              "\n",
              "    .dataframe thead th {\n",
              "        text-align: right;\n",
              "    }\n",
              "</style>\n",
              "<table border=\"1\" class=\"dataframe\">\n",
              "  <thead>\n",
              "    <tr style=\"text-align: right;\">\n",
              "      <th></th>\n",
              "      <th>person</th>\n",
              "      <th>dose</th>\n",
              "      <th>libido</th>\n",
              "    </tr>\n",
              "  </thead>\n",
              "  <tbody>\n",
              "    <tr>\n",
              "      <th>0</th>\n",
              "      <td>1</td>\n",
              "      <td>1</td>\n",
              "      <td>3</td>\n",
              "    </tr>\n",
              "    <tr>\n",
              "      <th>1</th>\n",
              "      <td>2</td>\n",
              "      <td>1</td>\n",
              "      <td>2</td>\n",
              "    </tr>\n",
              "    <tr>\n",
              "      <th>2</th>\n",
              "      <td>3</td>\n",
              "      <td>1</td>\n",
              "      <td>1</td>\n",
              "    </tr>\n",
              "    <tr>\n",
              "      <th>3</th>\n",
              "      <td>4</td>\n",
              "      <td>1</td>\n",
              "      <td>1</td>\n",
              "    </tr>\n",
              "    <tr>\n",
              "      <th>4</th>\n",
              "      <td>5</td>\n",
              "      <td>1</td>\n",
              "      <td>4</td>\n",
              "    </tr>\n",
              "    <tr>\n",
              "      <th>5</th>\n",
              "      <td>6</td>\n",
              "      <td>2</td>\n",
              "      <td>5</td>\n",
              "    </tr>\n",
              "    <tr>\n",
              "      <th>6</th>\n",
              "      <td>7</td>\n",
              "      <td>2</td>\n",
              "      <td>2</td>\n",
              "    </tr>\n",
              "    <tr>\n",
              "      <th>7</th>\n",
              "      <td>8</td>\n",
              "      <td>2</td>\n",
              "      <td>4</td>\n",
              "    </tr>\n",
              "    <tr>\n",
              "      <th>8</th>\n",
              "      <td>9</td>\n",
              "      <td>2</td>\n",
              "      <td>2</td>\n",
              "    </tr>\n",
              "    <tr>\n",
              "      <th>9</th>\n",
              "      <td>10</td>\n",
              "      <td>2</td>\n",
              "      <td>3</td>\n",
              "    </tr>\n",
              "    <tr>\n",
              "      <th>10</th>\n",
              "      <td>11</td>\n",
              "      <td>3</td>\n",
              "      <td>7</td>\n",
              "    </tr>\n",
              "    <tr>\n",
              "      <th>11</th>\n",
              "      <td>12</td>\n",
              "      <td>3</td>\n",
              "      <td>4</td>\n",
              "    </tr>\n",
              "    <tr>\n",
              "      <th>12</th>\n",
              "      <td>13</td>\n",
              "      <td>3</td>\n",
              "      <td>5</td>\n",
              "    </tr>\n",
              "    <tr>\n",
              "      <th>13</th>\n",
              "      <td>14</td>\n",
              "      <td>3</td>\n",
              "      <td>3</td>\n",
              "    </tr>\n",
              "    <tr>\n",
              "      <th>14</th>\n",
              "      <td>15</td>\n",
              "      <td>3</td>\n",
              "      <td>6</td>\n",
              "    </tr>\n",
              "  </tbody>\n",
              "</table>\n",
              "</div>"
            ],
            "text/plain": [
              "    person  dose  libido\n",
              "0        1     1       3\n",
              "1        2     1       2\n",
              "2        3     1       1\n",
              "3        4     1       1\n",
              "4        5     1       4\n",
              "5        6     2       5\n",
              "6        7     2       2\n",
              "7        8     2       4\n",
              "8        9     2       2\n",
              "9       10     2       3\n",
              "10      11     3       7\n",
              "11      12     3       4\n",
              "12      13     3       5\n",
              "13      14     3       3\n",
              "14      15     3       6"
            ]
          },
          "metadata": {
            "tags": []
          },
          "execution_count": 37
        }
      ]
    },
    {
      "cell_type": "code",
      "metadata": {
        "id": "wTK9aPNrq4_y",
        "colab": {
          "base_uri": "https://localhost:8080/",
          "height": 170
        },
        "outputId": "9fbb46db-3e39-424e-e8d6-01eb5a67c133"
      },
      "source": [
        "df.drop('person', axis= 1, inplace= True)\n",
        "\n",
        "# Recoding value from numeric to string\n",
        "df['dose'].replace({1: 'placebo', 2: 'low', 3: 'high'}, inplace= True)\n",
        "\n",
        "df.info()"
      ],
      "execution_count": null,
      "outputs": [
        {
          "output_type": "stream",
          "text": [
            "<class 'pandas.core.frame.DataFrame'>\n",
            "RangeIndex: 15 entries, 0 to 14\n",
            "Data columns (total 2 columns):\n",
            " #   Column  Non-Null Count  Dtype \n",
            "---  ------  --------------  ----- \n",
            " 0   dose    15 non-null     object\n",
            " 1   libido  15 non-null     int64 \n",
            "dtypes: int64(1), object(1)\n",
            "memory usage: 368.0+ bytes\n"
          ],
          "name": "stdout"
        }
      ]
    },
    {
      "cell_type": "code",
      "metadata": {
        "id": "sAEHxNH_rC_H",
        "colab": {
          "base_uri": "https://localhost:8080/",
          "height": 514
        },
        "outputId": "256f74b8-aa42-4e32-97de-a4b3c22a5660"
      },
      "source": [
        "df"
      ],
      "execution_count": null,
      "outputs": [
        {
          "output_type": "execute_result",
          "data": {
            "text/html": [
              "<div>\n",
              "<style scoped>\n",
              "    .dataframe tbody tr th:only-of-type {\n",
              "        vertical-align: middle;\n",
              "    }\n",
              "\n",
              "    .dataframe tbody tr th {\n",
              "        vertical-align: top;\n",
              "    }\n",
              "\n",
              "    .dataframe thead th {\n",
              "        text-align: right;\n",
              "    }\n",
              "</style>\n",
              "<table border=\"1\" class=\"dataframe\">\n",
              "  <thead>\n",
              "    <tr style=\"text-align: right;\">\n",
              "      <th></th>\n",
              "      <th>dose</th>\n",
              "      <th>libido</th>\n",
              "    </tr>\n",
              "  </thead>\n",
              "  <tbody>\n",
              "    <tr>\n",
              "      <th>0</th>\n",
              "      <td>placebo</td>\n",
              "      <td>3</td>\n",
              "    </tr>\n",
              "    <tr>\n",
              "      <th>1</th>\n",
              "      <td>placebo</td>\n",
              "      <td>2</td>\n",
              "    </tr>\n",
              "    <tr>\n",
              "      <th>2</th>\n",
              "      <td>placebo</td>\n",
              "      <td>1</td>\n",
              "    </tr>\n",
              "    <tr>\n",
              "      <th>3</th>\n",
              "      <td>placebo</td>\n",
              "      <td>1</td>\n",
              "    </tr>\n",
              "    <tr>\n",
              "      <th>4</th>\n",
              "      <td>placebo</td>\n",
              "      <td>4</td>\n",
              "    </tr>\n",
              "    <tr>\n",
              "      <th>5</th>\n",
              "      <td>low</td>\n",
              "      <td>5</td>\n",
              "    </tr>\n",
              "    <tr>\n",
              "      <th>6</th>\n",
              "      <td>low</td>\n",
              "      <td>2</td>\n",
              "    </tr>\n",
              "    <tr>\n",
              "      <th>7</th>\n",
              "      <td>low</td>\n",
              "      <td>4</td>\n",
              "    </tr>\n",
              "    <tr>\n",
              "      <th>8</th>\n",
              "      <td>low</td>\n",
              "      <td>2</td>\n",
              "    </tr>\n",
              "    <tr>\n",
              "      <th>9</th>\n",
              "      <td>low</td>\n",
              "      <td>3</td>\n",
              "    </tr>\n",
              "    <tr>\n",
              "      <th>10</th>\n",
              "      <td>high</td>\n",
              "      <td>7</td>\n",
              "    </tr>\n",
              "    <tr>\n",
              "      <th>11</th>\n",
              "      <td>high</td>\n",
              "      <td>4</td>\n",
              "    </tr>\n",
              "    <tr>\n",
              "      <th>12</th>\n",
              "      <td>high</td>\n",
              "      <td>5</td>\n",
              "    </tr>\n",
              "    <tr>\n",
              "      <th>13</th>\n",
              "      <td>high</td>\n",
              "      <td>3</td>\n",
              "    </tr>\n",
              "    <tr>\n",
              "      <th>14</th>\n",
              "      <td>high</td>\n",
              "      <td>6</td>\n",
              "    </tr>\n",
              "  </tbody>\n",
              "</table>\n",
              "</div>"
            ],
            "text/plain": [
              "       dose  libido\n",
              "0   placebo       3\n",
              "1   placebo       2\n",
              "2   placebo       1\n",
              "3   placebo       1\n",
              "4   placebo       4\n",
              "5       low       5\n",
              "6       low       2\n",
              "7       low       4\n",
              "8       low       2\n",
              "9       low       3\n",
              "10     high       7\n",
              "11     high       4\n",
              "12     high       5\n",
              "13     high       3\n",
              "14     high       6"
            ]
          },
          "metadata": {
            "tags": []
          },
          "execution_count": 39
        }
      ]
    },
    {
      "cell_type": "code",
      "metadata": {
        "id": "laowHyscrDlr",
        "colab": {
          "base_uri": "https://localhost:8080/",
          "height": 114
        },
        "outputId": "b2d60d85-3634-4273-cad7-067ecd1103bb"
      },
      "source": [
        "rp.summary_cont(df['libido'])"
      ],
      "execution_count": null,
      "outputs": [
        {
          "output_type": "stream",
          "text": [
            "\n",
            "\n"
          ],
          "name": "stdout"
        },
        {
          "output_type": "execute_result",
          "data": {
            "text/html": [
              "<div>\n",
              "<style scoped>\n",
              "    .dataframe tbody tr th:only-of-type {\n",
              "        vertical-align: middle;\n",
              "    }\n",
              "\n",
              "    .dataframe tbody tr th {\n",
              "        vertical-align: top;\n",
              "    }\n",
              "\n",
              "    .dataframe thead th {\n",
              "        text-align: right;\n",
              "    }\n",
              "</style>\n",
              "<table border=\"1\" class=\"dataframe\">\n",
              "  <thead>\n",
              "    <tr style=\"text-align: right;\">\n",
              "      <th></th>\n",
              "      <th>Variable</th>\n",
              "      <th>N</th>\n",
              "      <th>Mean</th>\n",
              "      <th>SD</th>\n",
              "      <th>SE</th>\n",
              "      <th>95% Conf.</th>\n",
              "      <th>Interval</th>\n",
              "    </tr>\n",
              "  </thead>\n",
              "  <tbody>\n",
              "    <tr>\n",
              "      <th>0</th>\n",
              "      <td>libido</td>\n",
              "      <td>15.0</td>\n",
              "      <td>3.4667</td>\n",
              "      <td>1.7674</td>\n",
              "      <td>0.4563</td>\n",
              "      <td>2.4879</td>\n",
              "      <td>4.4454</td>\n",
              "    </tr>\n",
              "  </tbody>\n",
              "</table>\n",
              "</div>"
            ],
            "text/plain": [
              "  Variable     N    Mean      SD      SE  95% Conf.  Interval\n",
              "0   libido  15.0  3.4667  1.7674  0.4563     2.4879    4.4454"
            ]
          },
          "metadata": {
            "tags": []
          },
          "execution_count": 40
        }
      ]
    },
    {
      "cell_type": "code",
      "metadata": {
        "id": "0M2bZQgorM44",
        "colab": {
          "base_uri": "https://localhost:8080/",
          "height": 207
        },
        "outputId": "10ff5d63-afd2-4578-947e-0bb8d7d93f1b"
      },
      "source": [
        "rp.summary_cont(df['libido'].groupby(df['dose']))"
      ],
      "execution_count": null,
      "outputs": [
        {
          "output_type": "stream",
          "text": [
            "\n",
            "\n"
          ],
          "name": "stdout"
        },
        {
          "output_type": "execute_result",
          "data": {
            "text/html": [
              "<div>\n",
              "<style scoped>\n",
              "    .dataframe tbody tr th:only-of-type {\n",
              "        vertical-align: middle;\n",
              "    }\n",
              "\n",
              "    .dataframe tbody tr th {\n",
              "        vertical-align: top;\n",
              "    }\n",
              "\n",
              "    .dataframe thead th {\n",
              "        text-align: right;\n",
              "    }\n",
              "</style>\n",
              "<table border=\"1\" class=\"dataframe\">\n",
              "  <thead>\n",
              "    <tr style=\"text-align: right;\">\n",
              "      <th></th>\n",
              "      <th>N</th>\n",
              "      <th>Mean</th>\n",
              "      <th>SD</th>\n",
              "      <th>SE</th>\n",
              "      <th>95% Conf.</th>\n",
              "      <th>Interval</th>\n",
              "    </tr>\n",
              "    <tr>\n",
              "      <th>dose</th>\n",
              "      <th></th>\n",
              "      <th></th>\n",
              "      <th></th>\n",
              "      <th></th>\n",
              "      <th></th>\n",
              "      <th></th>\n",
              "    </tr>\n",
              "  </thead>\n",
              "  <tbody>\n",
              "    <tr>\n",
              "      <th>high</th>\n",
              "      <td>5</td>\n",
              "      <td>5.0</td>\n",
              "      <td>1.5811</td>\n",
              "      <td>0.7071</td>\n",
              "      <td>3.0368</td>\n",
              "      <td>6.9632</td>\n",
              "    </tr>\n",
              "    <tr>\n",
              "      <th>low</th>\n",
              "      <td>5</td>\n",
              "      <td>3.2</td>\n",
              "      <td>1.3038</td>\n",
              "      <td>0.5831</td>\n",
              "      <td>1.5811</td>\n",
              "      <td>4.8189</td>\n",
              "    </tr>\n",
              "    <tr>\n",
              "      <th>placebo</th>\n",
              "      <td>5</td>\n",
              "      <td>2.2</td>\n",
              "      <td>1.3038</td>\n",
              "      <td>0.5831</td>\n",
              "      <td>0.5811</td>\n",
              "      <td>3.8189</td>\n",
              "    </tr>\n",
              "  </tbody>\n",
              "</table>\n",
              "</div>"
            ],
            "text/plain": [
              "         N  Mean      SD      SE  95% Conf.  Interval\n",
              "dose                                                 \n",
              "high     5   5.0  1.5811  0.7071     3.0368    6.9632\n",
              "low      5   3.2  1.3038  0.5831     1.5811    4.8189\n",
              "placebo  5   2.2  1.3038  0.5831     0.5811    3.8189"
            ]
          },
          "metadata": {
            "tags": []
          },
          "execution_count": 41
        }
      ]
    },
    {
      "cell_type": "code",
      "metadata": {
        "id": "8fmP1UNDrTUm"
      },
      "source": [
        "import scipy.stats as stats"
      ],
      "execution_count": null,
      "outputs": []
    },
    {
      "cell_type": "code",
      "metadata": {
        "id": "ifqox6C8sBeQ"
      },
      "source": [
        "#df['libido'][df['dose'] == 'high']"
      ],
      "execution_count": null,
      "outputs": []
    },
    {
      "cell_type": "code",
      "metadata": {
        "id": "P3t8E5ZPrdqh",
        "colab": {
          "base_uri": "https://localhost:8080/",
          "height": 34
        },
        "outputId": "fc3e69a7-77cb-4414-c78f-0a05ca76cc1b"
      },
      "source": [
        "# THE PARATMETERS ARE BASICALLY LIBIDO VALUES FOR THE 3 GROUPS \n",
        "stats.f_oneway(df['libido'][df['dose'] == 'high'],\n",
        "               df['libido'][df['dose'] == 'low'],\n",
        "               df['libido'][df['dose'] == 'placebo'])"
      ],
      "execution_count": null,
      "outputs": [
        {
          "output_type": "execute_result",
          "data": {
            "text/plain": [
              "F_onewayResult(statistic=5.11864406779661, pvalue=0.024694289538222603)"
            ]
          },
          "metadata": {
            "tags": []
          },
          "execution_count": 43
        }
      ]
    },
    {
      "cell_type": "markdown",
      "metadata": {
        "id": "G0nPIPLWr6ev"
      },
      "source": [
        "Interpretation- There is a statistically significant difference between the groups and their effects the libido, F= 5.12, p-value= 0.024"
      ]
    },
    {
      "cell_type": "markdown",
      "metadata": {
        "id": "lJrrHsGpvPiZ"
      },
      "source": [
        "**One way Anova using Stats Model **\n",
        "\n",
        "This method conducts a one-way ANOVA in two steps:\n",
        "1.Fit the model using an estimation method\n",
        "2.Pass fitted model into ANOVA method to produce ANOVA table\n",
        "\n",
        "In the case of an ANOVA, the independent variable will be categorical"
      ]
    },
    {
      "cell_type": "code",
      "metadata": {
        "id": "WhCqHVRyrjbr",
        "colab": {
          "base_uri": "https://localhost:8080/",
          "height": 111
        },
        "outputId": "c95eae71-bd13-4bab-f5e6-5aa2357644a7"
      },
      "source": [
        "import statsmodels.api as sm\n",
        "from statsmodels.formula.api import ols\n",
        "\n",
        "model = ols('libido ~ C(dose)', data=df).fit()\n",
        "aov_table = sm.stats.anova_lm(model, typ=2)\n",
        "aov_table"
      ],
      "execution_count": null,
      "outputs": [
        {
          "output_type": "execute_result",
          "data": {
            "text/html": [
              "<div>\n",
              "<style scoped>\n",
              "    .dataframe tbody tr th:only-of-type {\n",
              "        vertical-align: middle;\n",
              "    }\n",
              "\n",
              "    .dataframe tbody tr th {\n",
              "        vertical-align: top;\n",
              "    }\n",
              "\n",
              "    .dataframe thead th {\n",
              "        text-align: right;\n",
              "    }\n",
              "</style>\n",
              "<table border=\"1\" class=\"dataframe\">\n",
              "  <thead>\n",
              "    <tr style=\"text-align: right;\">\n",
              "      <th></th>\n",
              "      <th>sum_sq</th>\n",
              "      <th>df</th>\n",
              "      <th>F</th>\n",
              "      <th>PR(&gt;F)</th>\n",
              "    </tr>\n",
              "  </thead>\n",
              "  <tbody>\n",
              "    <tr>\n",
              "      <th>C(dose)</th>\n",
              "      <td>20.133333</td>\n",
              "      <td>2.0</td>\n",
              "      <td>5.118644</td>\n",
              "      <td>0.024694</td>\n",
              "    </tr>\n",
              "    <tr>\n",
              "      <th>Residual</th>\n",
              "      <td>23.600000</td>\n",
              "      <td>12.0</td>\n",
              "      <td>NaN</td>\n",
              "      <td>NaN</td>\n",
              "    </tr>\n",
              "  </tbody>\n",
              "</table>\n",
              "</div>"
            ],
            "text/plain": [
              "             sum_sq    df         F    PR(>F)\n",
              "C(dose)   20.133333   2.0  5.118644  0.024694\n",
              "Residual  23.600000  12.0       NaN       NaN"
            ]
          },
          "metadata": {
            "tags": []
          },
          "execution_count": 44
        }
      ]
    },
    {
      "cell_type": "markdown",
      "metadata": {
        "id": "_3PVjavqwSd8"
      },
      "source": [
        "This table provides all the information one needs in order to interprete if the results are significant; however, it does not provide any effect size measures to tell if the statistical significance is meaningful. The function below calculates eta-squared (\n",
        ") and omega-squared (\n",
        "). A quick note, \n",
        " is the exact same thing as \n",
        " except when coming from the ANOVA framework people call it \n",
        "; \n",
        " is considered a better measure of effect size since it is unbiased in it's calculation by accounting for the degrees of freedom in the model"
      ]
    },
    {
      "cell_type": "code",
      "metadata": {
        "id": "1N_SVMBkv1_h",
        "colab": {
          "base_uri": "https://localhost:8080/",
          "height": 111
        },
        "outputId": "724cb4ee-f80e-404b-d065-1d01b9c3a242"
      },
      "source": [
        "\"\"\"\n",
        "The function below was created specifically for the one-way ANOVA table results returned for Type II sum of squares\n",
        "\"\"\"\n",
        "\n",
        "def anova_table(aov):\n",
        "    aov['mean_sq'] = aov[:]['sum_sq']/aov[:]['df']\n",
        "\n",
        "    aov['eta_sq'] = aov[:-1]['sum_sq']/sum(aov['sum_sq'])\n",
        "\n",
        "    aov['omega_sq'] = (aov[:-1]['sum_sq']-(aov[:-1]['df']*aov['mean_sq'][-1]))/(sum(aov['sum_sq'])+aov['mean_sq'][-1])\n",
        "\n",
        "    cols = ['sum_sq', 'df', 'mean_sq', 'F', 'PR(>F)', 'eta_sq', 'omega_sq']\n",
        "    aov = aov[cols]\n",
        "    return aov\n",
        "\n",
        "anova_table(aov_table)"
      ],
      "execution_count": null,
      "outputs": [
        {
          "output_type": "execute_result",
          "data": {
            "text/html": [
              "<div>\n",
              "<style scoped>\n",
              "    .dataframe tbody tr th:only-of-type {\n",
              "        vertical-align: middle;\n",
              "    }\n",
              "\n",
              "    .dataframe tbody tr th {\n",
              "        vertical-align: top;\n",
              "    }\n",
              "\n",
              "    .dataframe thead th {\n",
              "        text-align: right;\n",
              "    }\n",
              "</style>\n",
              "<table border=\"1\" class=\"dataframe\">\n",
              "  <thead>\n",
              "    <tr style=\"text-align: right;\">\n",
              "      <th></th>\n",
              "      <th>sum_sq</th>\n",
              "      <th>df</th>\n",
              "      <th>mean_sq</th>\n",
              "      <th>F</th>\n",
              "      <th>PR(&gt;F)</th>\n",
              "      <th>eta_sq</th>\n",
              "      <th>omega_sq</th>\n",
              "    </tr>\n",
              "  </thead>\n",
              "  <tbody>\n",
              "    <tr>\n",
              "      <th>C(dose)</th>\n",
              "      <td>20.133333</td>\n",
              "      <td>2.0</td>\n",
              "      <td>10.066667</td>\n",
              "      <td>5.118644</td>\n",
              "      <td>0.024694</td>\n",
              "      <td>0.460366</td>\n",
              "      <td>0.354486</td>\n",
              "    </tr>\n",
              "    <tr>\n",
              "      <th>Residual</th>\n",
              "      <td>23.600000</td>\n",
              "      <td>12.0</td>\n",
              "      <td>1.966667</td>\n",
              "      <td>NaN</td>\n",
              "      <td>NaN</td>\n",
              "      <td>NaN</td>\n",
              "      <td>NaN</td>\n",
              "    </tr>\n",
              "  </tbody>\n",
              "</table>\n",
              "</div>"
            ],
            "text/plain": [
              "             sum_sq    df    mean_sq         F    PR(>F)    eta_sq  omega_sq\n",
              "C(dose)   20.133333   2.0  10.066667  5.118644  0.024694  0.460366  0.354486\n",
              "Residual  23.600000  12.0   1.966667       NaN       NaN       NaN       NaN"
            ]
          },
          "metadata": {
            "tags": []
          },
          "execution_count": 45
        }
      ]
    },
    {
      "cell_type": "markdown",
      "metadata": {
        "id": "QX6YGYlWwkBi"
      },
      "source": [
        "**INTERPRETATION**\n",
        "\n",
        "A new medication was developed to increase libido. The purpose of this study was to test for a difference between the dosage levels. The overall average libido was 3.5 95% CI(2.5, 4.4) with group averages of 2.2 95% CI(0.9, 3.5) for the placebo group; 3.2 95% CI(1.9, 4.5) for the low dose group; and 5.0 95% CI(3.5, 6.5) for the high dose group. There is a statistically significant difference between the groups and their effects the libido, F= 5.12, p-value= 0.0247, with an overall large effect, \n",
        "= 0.35.\n",
        "\n",
        "In order to tell which groups differed significantly, post-hoc tests need to be conducted. Before one goes through that work, the assumptions should be checked first in case any modifications need to be made to the model"
      ]
    },
    {
      "cell_type": "markdown",
      "metadata": {
        "id": "CCgfXTtGHbL8"
      },
      "source": [
        "**Assumption Checks**"
      ]
    },
    {
      "cell_type": "markdown",
      "metadata": {
        "id": "JJSAYvQEHgR-"
      },
      "source": [
        "INDEPENDENCE\n",
        "\n",
        "This assumption is tested when the study is designed. What this means is that all groups are mutually exclusive, i.e. an individual can only belong in one group. Also, this means that the data is not repeated measures (not collected through time). In this example, this condition is met."
      ]
    },
    {
      "cell_type": "markdown",
      "metadata": {
        "id": "6IiDX4JQHjwg"
      },
      "source": [
        "NORMALITY\n",
        "\n",
        "The assumption of normality is tested on the residuals of the model when coming from an ANOVA or regression framework. One method for testing the assumption of normality is the Shapiro-Wilk test. This can be completed using the shapiro() method from scipy.stats. Ensure that scipy.stats is imported for the following method to work. Unfortunately the output is not labelled, but it's (W-test statistic, p-value)."
      ]
    },
    {
      "cell_type": "code",
      "metadata": {
        "id": "nTug6e62HmXU",
        "colab": {
          "base_uri": "https://localhost:8080/",
          "height": 34
        },
        "outputId": "634eface-130a-48df-d434-aed5de66602e"
      },
      "source": [
        "import scipy.stats as stats\n",
        "\n",
        "stats.shapiro(model.resid)"
      ],
      "execution_count": null,
      "outputs": [
        {
          "output_type": "execute_result",
          "data": {
            "text/plain": [
              "(0.916691780090332, 0.1714704930782318)"
            ]
          },
          "metadata": {
            "tags": []
          },
          "execution_count": 46
        }
      ]
    },
    {
      "cell_type": "markdown",
      "metadata": {
        "id": "0p2uTTd_HtgV"
      },
      "source": [
        "The test is non-significant, W= 0.9167, p= 0.1715, which indicates that the residuals are normally distributed.\n",
        "\n",
        "Another way to test the assumption is through a visual check- this is helpful when the sample is large. The reason this is true is that as the sample size increases, the statistical test's ability to reject the null hypothesis increases, i.e. it gains power to detect smaller differences as the sample size n increases. \n",
        "\n",
        "One method of visually checking the distribution is to use a probability plot with or without the correlation value, \n",
        "R\n",
        "2\n",
        ", to assess the observed values correlation with the theoretical distribution in question - in the current case it would be the Gaussian (a.k.a the normal) distribution. This can be completed by using the probplot() method from Scipy.stats. If using the \n",
        "R\n",
        "2\n",
        " measure, one can refer to the NIST/SEMATECH e-handbook of statistical methods to see if the value is significant."
      ]
    },
    {
      "cell_type": "code",
      "metadata": {
        "id": "fuaYQ_noHrSI",
        "colab": {
          "base_uri": "https://localhost:8080/",
          "height": 627
        },
        "outputId": "57aad1ae-c30d-4171-8803-014544b92d9b"
      },
      "source": [
        "import matplotlib.pyplot as plt\n",
        "\n",
        "fig = plt.figure(figsize= (10, 10))\n",
        "ax = fig.add_subplot(111)\n",
        "\n",
        "normality_plot, stat = stats.probplot(model.resid, plot= plt, rvalue= True)\n",
        "ax.set_title(\"Probability plot of model residual's\", fontsize= 20)\n",
        "ax.set\n",
        "\n",
        "plt.show()"
      ],
      "execution_count": null,
      "outputs": [
        {
          "output_type": "display_data",
          "data": {
            "image/png": "[encoded data removed]",
            "text/plain": [
              "<Figure size 720x720 with 1 Axes>"
            ]
          },
          "metadata": {
            "tags": [],
            "needs_background": "light"
          }
        }
      ]
    },
    {
      "cell_type": "markdown",
      "metadata": {
        "id": "Z-yikGMxHzq-"
      },
      "source": [
        "**HOMOGENEITY OF VARIANCE**"
      ]
    },
    {
      "cell_type": "code",
      "metadata": {
        "id": "XklrjY3mH2QB",
        "colab": {
          "base_uri": "https://localhost:8080/",
          "height": 34
        },
        "outputId": "0cc2955e-bf1b-49d8-ba7b-92f329185174"
      },
      "source": [
        "stats.levene(df['libido'][df['dose'] == 'high'],\n",
        "             df['libido'][df['dose'] == 'low'],\n",
        "             df['libido'][df['dose'] == 'placebo'])"
      ],
      "execution_count": null,
      "outputs": [
        {
          "output_type": "execute_result",
          "data": {
            "text/plain": [
              "LeveneResult(statistic=0.11764705882352934, pvalue=0.8900225182757423)"
            ]
          },
          "metadata": {
            "tags": []
          },
          "execution_count": 48
        }
      ]
    },
    {
      "cell_type": "code",
      "metadata": {
        "id": "HzLGP1zLH5Xs",
        "colab": {
          "base_uri": "https://localhost:8080/",
          "height": 627
        },
        "outputId": "87802c0a-2846-4e26-ec48-7d22fcfaf4cd"
      },
      "source": [
        "fig = plt.figure(figsize= (10, 10))\n",
        "ax = fig.add_subplot(111)\n",
        "\n",
        "ax.set_title(\"Box Plot of Libido by Dosage\", fontsize= 20)\n",
        "ax.set\n",
        "\n",
        "data = [df['libido'][df['dose'] == 'placebo'],\n",
        "        df['libido'][df['dose'] == 'low'],\n",
        "        df['libido'][df['dose'] == 'high']]\n",
        "\n",
        "ax.boxplot(data,\n",
        "           labels= ['Placebo', 'Low', 'High'],\n",
        "           showmeans= True)\n",
        "\n",
        "plt.xlabel(\"Drug Dosage\")\n",
        "plt.ylabel(\"Libido Score\")\n",
        "\n",
        "plt.show()"
      ],
      "execution_count": null,
      "outputs": [
        {
          "output_type": "display_data",
          "data": {
            "image/png": "[encoded data removed]",
            "text/plain": [
              "<Figure size 720x720 with 1 Axes>"
            ]
          },
          "metadata": {
            "tags": [],
            "needs_background": "light"
          }
        }
      ]
    },
    {
      "cell_type": "markdown",
      "metadata": {
        "id": "okEHuZAvB4ss"
      },
      "source": [
        "**TUKEY HONESTLY SIGNIFICANT DIFFERENCE (HSD)**"
      ]
    },
    {
      "cell_type": "code",
      "metadata": {
        "id": "Fy9K7x_PwcYx",
        "colab": {
          "base_uri": "https://localhost:8080/",
          "height": 120
        },
        "outputId": "b48b13c8-7366-4204-9562-f560a953468d"
      },
      "source": [
        "import statsmodels.stats.multicomp as mc\n",
        "\n",
        "comp = mc.MultiComparison(df['libido'], df['dose'])\n",
        "post_hoc_res = comp.tukeyhsd()\n",
        "post_hoc_res.summary()"
      ],
      "execution_count": null,
      "outputs": [
        {
          "output_type": "execute_result",
          "data": {
            "text/html": [
              "<table class=\"simpletable\">\n",
              "<caption>Multiple Comparison of Means - Tukey HSD, FWER=0.05</caption>\n",
              "<tr>\n",
              "  <th>group1</th> <th>group2</th>  <th>meandiff</th>  <th>p-adj</th>  <th>lower</th>   <th>upper</th>  <th>reject</th>\n",
              "</tr>\n",
              "<tr>\n",
              "   <td>high</td>    <td>low</td>     <td>-1.8</td>   <td>0.1472</td> <td>-4.1651</td> <td>0.5651</td>   <td>False</td>\n",
              "</tr>\n",
              "<tr>\n",
              "   <td>high</td>  <td>placebo</td>   <td>-2.8</td>   <td>0.0209</td> <td>-5.1651</td> <td>-0.4349</td>  <td>True</td> \n",
              "</tr>\n",
              "<tr>\n",
              "    <td>low</td>  <td>placebo</td>   <td>-1.0</td>   <td>0.5171</td> <td>-3.3651</td> <td>1.3651</td>   <td>False</td>\n",
              "</tr>\n",
              "</table>"
            ],
            "text/plain": [
              "<class 'statsmodels.iolib.table.SimpleTable'>"
            ]
          },
          "metadata": {
            "tags": []
          },
          "execution_count": 13
        }
      ]
    },
    {
      "cell_type": "markdown",
      "metadata": {
        "id": "v2U9A8wHBXn-"
      },
      "source": [
        "Now to make sense of the table.\n",
        "\n",
        "At the top the table testing information is provided\n",
        "FWER is the familywise error rate, i.e. what  is being set to and controlled at\n",
        "group1 and group2 columns are the groups being compared\n",
        "- meandiff is the difference between the group means\n",
        "- p-adj is the corrected p-value which takes into account the multiple comparisons being conducted\n",
        "- lower is the lower band of the confidence interval. In the current example the confidence interval at the 95% level since = 0.05.\n",
        "- upper is the upper band of the confidence interval. In the current example the confidence interval at the 95% level since = 0.05. Reject is the decision rule based on the corrected p-value"
      ]
    },
    {
      "cell_type": "code",
      "metadata": {
        "id": "VBdGwLImBOyA",
        "colab": {
          "base_uri": "https://localhost:8080/",
          "height": 791
        },
        "outputId": "5fc6c388-ca54-4c38-d47b-01225c7bd54f"
      },
      "source": [
        "post_hoc_res.plot_simultaneous(ylabel= \"Drug Dose\", xlabel= \"Score Difference\")"
      ],
      "execution_count": null,
      "outputs": [
        {
          "output_type": "execute_result",
          "data": {
            "image/png": "[encoded data removed]",
            "text/plain": [
              "<Figure size 720x432 with 1 Axes>"
            ]
          },
          "metadata": {
            "tags": []
          },
          "execution_count": 16
        },
        {
          "output_type": "display_data",
          "data": {
            "image/png": "[encoded data removed]",
            "text/plain": [
              "<Figure size 720x432 with 1 Axes>"
            ]
          },
          "metadata": {
            "tags": [],
            "needs_background": "light"
          }
        }
      ]
    },
    {
      "cell_type": "markdown",
      "metadata": {
        "id": "JiqAr8h6Blyp"
      },
      "source": [
        "Using Tukey HSD to test for differences between groups indicates that there is a statistically significant difference in libido score between those who took the placebo and those who took the high dosage of the medication, no other groups differed significantly. What this indicates is that the high dosage of the medication is effective at increasing libido, but the low dosage is not."
      ]
    },
    {
      "cell_type": "markdown",
      "metadata": {
        "id": "teOOBYVmCA76"
      },
      "source": [
        "**BONFERRONI CORRECTION**"
      ]
    },
    {
      "cell_type": "code",
      "metadata": {
        "id": "b_0ak2Y1BUmm",
        "colab": {
          "base_uri": "https://localhost:8080/",
          "height": 154
        },
        "outputId": "acd4d4bd-78fc-4f1d-ca45-11a7533e70ca"
      },
      "source": [
        "import statsmodels.stats.multicomp as mc\n",
        "import scipy \n",
        "\n",
        "comp = mc.MultiComparison(df['libido'], df['dose'])\n",
        "tbl, a1, a2 = comp.allpairtest(scipy.stats.ttest_ind,method=\"bonf\") ## In the ref document scipy not included \n",
        "tbl"
      ],
      "execution_count": null,
      "outputs": [
        {
          "output_type": "execute_result",
          "data": {
            "text/html": [
              "<table class=\"simpletable\">\n",
              "<caption>Test Multiple Comparison ttest_ind \n",
              "FWER=0.05 method=bonf\n",
              "alphacSidak=0.02, alphacBonf=0.017</caption>\n",
              "<tr>\n",
              "  <th>group1</th> <th>group2</th>   <th>stat</th>   <th>pval</th>  <th>pval_corr</th> <th>reject</th>\n",
              "</tr>\n",
              "<tr>\n",
              "   <td>high</td>    <td>low</td>    <td>1.964</td> <td>0.0851</td>  <td>0.2554</td>    <td>False</td>\n",
              "</tr>\n",
              "<tr>\n",
              "   <td>high</td>  <td>placebo</td> <td>3.0551</td> <td>0.0157</td>  <td>0.0471</td>    <td>True</td> \n",
              "</tr>\n",
              "<tr>\n",
              "    <td>low</td>  <td>placebo</td> <td>1.2127</td> <td>0.2598</td>  <td>0.7795</td>    <td>False</td>\n",
              "</tr>\n",
              "</table>"
            ],
            "text/plain": [
              "<class 'statsmodels.iolib.table.SimpleTable'>"
            ]
          },
          "metadata": {
            "tags": []
          },
          "execution_count": 33
        }
      ]
    },
    {
      "cell_type": "markdown",
      "metadata": {
        "id": "u9k9oEIqGZWN"
      },
      "source": [
        "Now to make sense of the table.\n",
        "\n",
        "At the top the table testing information is provided\n",
        "FWER is the familywise error rate, i.e. what \n",
        "α\n",
        " is being set to and controlled at\n",
        "method is the correction method that is being applied to the p-values\n",
        "Then there is the adjusted p-value (adjusted \n",
        "α\n",
        ") for both the Sidak and Bonferroni correction methods\n",
        "group1 and group2 columns are the groups being compared\n",
        "stat is the test statistic value; in this case it would be the t statistic\n",
        "pval is the uncorrected p-value returned from the supplied \"statistical_test_method\"\n",
        "pval_corr is the corrected p-value which has been corrected using whichever \"correction_method\" was supplied\n",
        "reject is the decision rule based on the corrected p-value\n",
        "Conducting comparisons using the Bonferroni correction indicates that the only groups that differed significantly are those who took the high dose and the placebo dose."
      ]
    },
    {
      "cell_type": "markdown",
      "metadata": {
        "id": "-DuzgWNxGbyn"
      },
      "source": [
        "**DUNN-ŠIDÁK CORRECTION**"
      ]
    },
    {
      "cell_type": "code",
      "metadata": {
        "id": "rB7vkJ_WCo8B",
        "colab": {
          "base_uri": "https://localhost:8080/",
          "height": 154
        },
        "outputId": "a58111df-6c8f-44c7-b564-a3ac80a0319a"
      },
      "source": [
        "import statsmodels.stats.multicomp as mc\n",
        "import scipy \n",
        "\n",
        "comp = mc.MultiComparison(df['libido'], df['dose'])\n",
        "tbl, a1, a2 = comp.allpairtest(scipy.stats.ttest_ind,method=\"sidak\") ## In the ref document scipy not included \n",
        "tbl"
      ],
      "execution_count": null,
      "outputs": [
        {
          "output_type": "execute_result",
          "data": {
            "text/html": [
              "<table class=\"simpletable\">\n",
              "<caption>Test Multiple Comparison ttest_ind \n",
              "FWER=0.05 method=sidak\n",
              "alphacSidak=0.02, alphacBonf=0.017</caption>\n",
              "<tr>\n",
              "  <th>group1</th> <th>group2</th>   <th>stat</th>   <th>pval</th>  <th>pval_corr</th> <th>reject</th>\n",
              "</tr>\n",
              "<tr>\n",
              "   <td>high</td>    <td>low</td>    <td>1.964</td> <td>0.0851</td>  <td>0.2343</td>    <td>False</td>\n",
              "</tr>\n",
              "<tr>\n",
              "   <td>high</td>  <td>placebo</td> <td>3.0551</td> <td>0.0157</td>  <td>0.0464</td>    <td>True</td> \n",
              "</tr>\n",
              "<tr>\n",
              "    <td>low</td>  <td>placebo</td> <td>1.2127</td> <td>0.2598</td>  <td>0.5945</td>    <td>False</td>\n",
              "</tr>\n",
              "</table>"
            ],
            "text/plain": [
              "<class 'statsmodels.iolib.table.SimpleTable'>"
            ]
          },
          "metadata": {
            "tags": []
          },
          "execution_count": 34
        }
      ]
    },
    {
      "cell_type": "markdown",
      "metadata": {
        "id": "u76Mnc6NGxk7"
      },
      "source": [
        "Now to make sense of the table.\n",
        "\n",
        "At the top the table testing information is provided\n",
        "FWER is the familywise error rate, i.e. what \n",
        "α\n",
        " is being set to and controlled at\n",
        "method is the correction method that is being applied to the p-values\n",
        "Then there is the adjusted p-value (adjusted \n",
        "α\n",
        ") for both the Sidak and Bonferroni correction methods\n",
        "group1 and group2 columns are the groups being compared\n",
        "stat is the test statistic value; in this case it would be the t statistic\n",
        "pval is the uncorrected p-value returned from the supplied \"statistical_test_method\"\n",
        "pval_corr is the corrected p-value which has been corrected using whichever \"correction_method\" was supplied\n",
        "reject is the decision rule based on the corrected p-value\n",
        "Conducting comparisons using the Šidák correction indicates that the only groups that differed significantly are those who took the high dose and the placebo dose."
      ]
    },
    {
      "cell_type": "markdown",
      "metadata": {
        "id": "r7fBTQJHJ2P8"
      },
      "source": [
        "# Non Parametric Alternative "
      ]
    },
    {
      "cell_type": "markdown",
      "metadata": {
        "id": "lz962LQSJxD7"
      },
      "source": [
        "A non parametric alternative to one way anova is the Kruskal Wallis H test "
      ]
    },
    {
      "cell_type": "markdown",
      "metadata": {
        "id": "g710lBwRLF7F"
      },
      "source": [
        "Researchers want to know if three different fertilizers lead to different levels of plant growth. They randomly select 30 different plants and split them into three groups of 10, applying a different fertilizer to each group. At the end of one month they measure the height of each plant"
      ]
    },
    {
      "cell_type": "code",
      "metadata": {
        "id": "mwShb8sgGteR"
      },
      "source": [
        "group1 = [7, 14, 14, 13, 12, 9, 6, 14, 12, 8]\n",
        "group2 = [15, 17, 13, 15, 15, 13, 9, 12, 10, 8]\n",
        "group3 = [6, 8, 8, 9, 5, 14, 13, 8, 10, 9]"
      ],
      "execution_count": null,
      "outputs": []
    },
    {
      "cell_type": "code",
      "metadata": {
        "id": "KwkYNxPKLI8g",
        "colab": {
          "base_uri": "https://localhost:8080/",
          "height": 34
        },
        "outputId": "ded3d0c8-18be-4ef3-fe6f-f7c1b1817b72"
      },
      "source": [
        "#Perform the Kruskal-Wallis Test\n",
        "\n",
        "from scipy import stats\n",
        "\n",
        "#perform Kruskal-Wallis Test \n",
        "stats.kruskal(group1, group2, group3)"
      ],
      "execution_count": null,
      "outputs": [
        {
          "output_type": "execute_result",
          "data": {
            "text/plain": [
              "KruskalResult(statistic=6.287801578353988, pvalue=0.043114289703508814)"
            ]
          },
          "metadata": {
            "tags": []
          },
          "execution_count": 52
        }
      ]
    },
    {
      "cell_type": "markdown",
      "metadata": {
        "id": "f0Rw-iD2MC8s"
      },
      "source": [
        "The Kruskal-Wallis Test uses the following null and alternative hypotheses:\n",
        "\n",
        "The null hypothesis (H0): The median is equal across all groups.\n",
        "\n",
        "The alternative hypothesis: (Ha): The median is not equal across all groups."
      ]
    },
    {
      "cell_type": "code",
      "metadata": {
        "id": "GBSI1ir1LLe-"
      },
      "source": [
        ""
      ],
      "execution_count": null,
      "outputs": []
    }
  ]
}